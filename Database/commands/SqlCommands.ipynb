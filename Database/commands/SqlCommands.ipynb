{
 "cells": [
  {
   "cell_type": "code",
   "execution_count": 1,
   "metadata": {},
   "outputs": [],
   "source": [
    "#!/usr/bin/env python3 "
   ]
  },
  {
   "cell_type": "code",
   "execution_count": 8,
   "metadata": {},
   "outputs": [],
   "source": [
    "# Importing the necessary modules \n",
    "import sqlite3 "
   ]
  },
  {
   "cell_type": "markdown",
   "metadata": {},
   "source": [
    "<h1> <b> Creating A Cursor Inside The Connected Database </b> </h1> "
   ]
  },
  {
   "cell_type": "code",
   "execution_count": null,
   "metadata": {},
   "outputs": [],
   "source": [
    "# Creating a connection to the database file  \n",
    "connection = sqlite3.connect(\"customer.db\")\n",
    "\n",
    "# Creating a cursor for the database \n",
    "c = connection.cursor(); \n",
    "\n",
    "# Creating a table by using the cursor \n",
    "c.execute()"
   ]
  },
  {
   "cell_type": "markdown",
   "metadata": {},
   "source": [
    "<h1> <b> Creating A Table Inside The Connected Database </b> </h1> \n",
    "\n",
    "<p> A datatype is how data are represented in memory </p> \n",
    "<p> Sqlite3 only has 5 datatypes \n",
    "<ul> \n",
    "<li> NULL: </li> \n",
    "<p> A <b> NULL </b> datatype is a data type that is empty </p> <br> \n",
    "    \n",
    "<li> INTERGER </li>\n",
    "<p> An <b> INTEGER </b> is a whole number that does not have a floating point. Its just a whole number </p> <br> \n",
    "    \n",
    "<li> REAL </li>\n",
    "<p> A <b> REAL </b> number is a number that has a floating point value e.g a decimal </p> <br>      \n",
    "    \n",
    "<li> TEXT </li>\n",
    "<p> A <b> TEXT </b> is a data type that holds stings </p> <br> \n",
    "    \n",
    "<li> BLOB </li>\n",
    "<p> This is a datatype that holds other solid data like mp3, images, files </p> \n",
    "    \n",
    "</ul> \n",
    "</p> "
   ]
  },
  {
   "cell_type": "code",
   "execution_count": 9,
   "metadata": {},
   "outputs": [],
   "source": [
    "# Creating a connection to the database  file \n",
    "connection = sqlite3.connect(\"customer.db\") \n",
    "\n",
    "# Creating a cursor for the database \n",
    "c = connection.cursor()\n",
    "\n",
    "# Creating a table by using the cursor \n",
    "c.execute(\n",
    "    \"\"\"\n",
    "    CREATE TABLE customers (\n",
    "    first_name text, \n",
    "    last_name text, \n",
    "    email text, \n",
    "    password text\n",
    "    \n",
    "    )\"\"\")\n",
    "\n",
    "# Commiting our connection \n",
    "connection.commit() \n",
    "\n",
    "# Close the conncetion \n",
    "connection.close() "
   ]
  },
  {
   "cell_type": "markdown",
   "metadata": {},
   "source": [
    "<h1> <b> Adding Or Inserting Data Into The Created Database  </b> </h1> "
   ]
  },
  {
   "cell_type": "code",
   "execution_count": 11,
   "metadata": {},
   "outputs": [],
   "source": [
    "# Creating a connection to the database  file \n",
    "connection = sqlite3.connect(\"customer.db\") \n",
    "\n",
    "# Creating a cursor for the database \n",
    "c = connection.cursor() \n",
    "\n",
    "USER_INFO = ['John', 'Elder', 'john@gmail.com', \"$pbkdf2-sha256$30000$GCMkBCDE.J/TWkvpHcNYaw$IbExE48EaMbPqrJsKDpqVU9kch/S5S4z5TNIm99zr1U\"]\n",
    "\n",
    "# Inserting data into the created database table \n",
    "#c.execute(\"INSERT INTO customers VALUES ('John', 'Elder', 'john@gmail.com')\")\n",
    "c.execute(\"INSERT INTO customers VALUES (?, ?, ?, ?)\", USER_INFO)\n",
    "\n",
    "\n",
    "# Commiting the connection \n",
    "connection.commit() \n",
    "\n",
    "# Closing the connection \n",
    "connection.close() "
   ]
  },
  {
   "cell_type": "markdown",
   "metadata": {},
   "source": [
    "<h1> <b> Inserting Multiple Data Into The Database </b> </h1> "
   ]
  },
  {
   "cell_type": "code",
   "execution_count": 12,
   "metadata": {},
   "outputs": [
    {
     "name": "stdout",
     "output_type": "stream",
     "text": [
      "Command executed successfully...\n"
     ]
    }
   ],
   "source": [
    "# Importing the necessary modules \n",
    "import sqlite3 \n",
    "\n",
    "# Creating a connection to the database  \n",
    "connection = sqlite3.connect(\"customer.db\")  \n",
    "\n",
    "# Creating a cursor object \n",
    "c = connection.cursor() \n",
    "\n",
    "# Creating a list to hold  multiple different customers \n",
    "many_customers = [\n",
    "    (\"West\", \"Alija\", \"wesajka@gmail.com\", \"$pbkdf2-sha256$30000$4Vyrde4dQ8jZW2tNyRmjdA$L1scgeAV6N1Cpf5UBIuxkmBMDcSVL6D.wXdJRUY36Yw\"), \n",
    "    (\"Steph\", \"Kuewa\", \"steph@kuewa.com\", \"$pbkdf2-sha256$30000$EELIea/Vuvd.z3lvLQUgxA$Iazvx7Ns0.Et6jSCSXwIBKKo6usr7JE.Zw0ftkAVKuQ\"), \n",
    "    (\"Dan\", \"Pas\", \"dan@pas.com\", \"$pbkdf2-sha256$30000$rBXinHOu1frf21urFYJQig$7DyCSBINDi2zIg7iRj4GP1ufD4MKLDDO1RmiFgCsZIg\")\n",
    "]\n",
    "\n",
    "# Inserting the multiple different customers into the database file \n",
    "c.executemany(\"INSERT INTO customers VALUES (?, ?, ?, ?)\", many_customers)\n",
    "\n",
    "# Commiting the connection \n",
    "connection.commit() \n",
    "\n",
    "# Closing the connection \n",
    "connection.close() \n",
    "print(\"Command executed successfully...\")"
   ]
  },
  {
   "cell_type": "markdown",
   "metadata": {},
   "source": [
    "<h1> <b> Extracting Data from the database  </b> </h1> "
   ]
  },
  {
   "cell_type": "code",
   "execution_count": 55,
   "metadata": {},
   "outputs": [
    {
     "name": "stdout",
     "output_type": "stream",
     "text": [
      "NAME\t\tEMAIL\n",
      "-------\t\t--------\n",
      "(1, 'John', 'Elder', 'john@gmail.com', '$pbkdf2-sha256$30000$GCMkBCDE.J/TWkvpHcNYaw$IbExE48EaMbPqrJsKDpqVU9kch/S5S4z5TNIm99zr1U')\n",
      "(2, 'Mbonu', 'Chinedum', 'cboy.chinedu@gmail.com', '$pbkdf2-sha256$30000$4Vyrde4dQ8jZW2tNyRmjdA$L1scgeAV6N1Cpf5UBIuxkmBMDcSVL6D.wXdJRUY36Yw')\n",
      "(3, 'Steph', 'Kuewa', 'steph@kuewa.com', '$pbkdf2-sha256$30000$EELIea/Vuvd.z3lvLQUgxA$Iazvx7Ns0.Et6jSCSXwIBKKo6usr7JE.Zw0ftkAVKuQ')\n",
      "(4, 'Dan', 'Pas', 'dan@pas.com', '$pbkdf2-sha256$30000$rBXinHOu1frf21urFYJQig$7DyCSBINDi2zIg7iRj4GP1ufD4MKLDDO1RmiFgCsZIg')\n"
     ]
    }
   ],
   "source": [
    "# Importing the necessary modules \n",
    "import sqlite3 \n",
    "\n",
    "# Creating a connection to the database  \n",
    "connection = sqlite3.connect(\"customer.db\")\n",
    "\n",
    "# Creating a cursor object  \n",
    "c = connection.cursor() \n",
    "\n",
    "# Query the database  \n",
    "c.execute(\"SELECT rowid, * FROM customers\")\n",
    "\n",
    "# Fetching the data from the loaded database  \n",
    "items = c.fetchall() \n",
    "\n",
    "\n",
    "# Displaying the extracted data \n",
    "print(\"NAME\" + \"\\t\\tEMAIL\")\n",
    "print(\"-------\" + \"\\t\\t--------\")\n",
    "for item in items: \n",
    "    print(item) \n",
    "\n",
    "# Commiting our command \n",
    "connection.commit() \n",
    "\n",
    "# Closing the connection \n",
    "connection.close() "
   ]
  },
  {
   "cell_type": "markdown",
   "metadata": {},
   "source": [
    "<h1> <b> Extracting Out Specific Items From The Database  </b> </h1> \n",
    "\n",
    "<p> This would extract the specific last name parsed into the execute command </p> "
   ]
  },
  {
   "cell_type": "code",
   "execution_count": 58,
   "metadata": {},
   "outputs": [
    {
     "name": "stdout",
     "output_type": "stream",
     "text": [
      "NAME\t\tEMAIL\n",
      "-------\t\t--------\n",
      "$pbkdf2-sha256$30000$GCMkBCDE.J/TWkvpHcNYaw$IbExE48EaMbPqrJsKDpqVU9kch/S5S4z5TNIm99zr1U\n"
     ]
    }
   ],
   "source": [
    "# Importing the necessary modules \n",
    "import sqlite3 \n",
    "\n",
    "# Creating a connection to the database  \n",
    "connection = sqlite3.connect(\"customer.db\")\n",
    "\n",
    "# Creating a cursor object  \n",
    "c = connection.cursor() \n",
    "\n",
    "USER_EMAIL = ('john@gmail.com', )\n",
    "\n",
    "# Query the database to extract from customers for last name equals kuewa \n",
    "# c.execute('SELECT * FROM stocks WHERE symbol=?', t)\n",
    "# c.execute(\"SELECT rowid, email, password FROM customers WHERE email = 'john@gmail.com'\")\n",
    "c.execute(\"SELECT first_name, last_name, email, password FROM customers WHERE email=?\", USER_EMAIL)\n",
    "\n",
    "# Fetching the data from the loaded database  \n",
    "items = c.fetchall()\n",
    "\n",
    "# Commiting our command \n",
    "connection.commit() \n",
    "\n",
    "# Closing the connection \n",
    "connection.close() \n",
    "\n",
    "\n",
    "# Displaying the extracted data \n",
    "print(\"NAME\" + \"\\t\\tEMAIL\")\n",
    "print(\"-------\" + \"\\t\\t--------\")\n",
    "# if items:\n",
    "#     print(\"Valid\")\n",
    "    \n",
    "# else:\n",
    "#     print(\"Not Valid.\")\n",
    "for data in items: \n",
    "    password_hash = data[3]\n",
    "    break \n",
    "        \n",
    "# print(items)  \n",
    "print(password_hash)\n"
   ]
  },
  {
   "cell_type": "markdown",
   "metadata": {},
   "source": [
    "<h1> Using Wildcards In SQL </h1> "
   ]
  },
  {
   "cell_type": "raw",
   "metadata": {},
   "source": [
    "### Using wildcards in SQL statements \n",
    "/*\n",
    "* This would look for the emails that start of with \"bro\" and extract all the \n",
    "* Values for them from the database \n",
    "*/\n",
    "c.execute(\"SELECT * FROM customers WHERE email LIKE 'bro%'\")   \n",
    "\n",
    "\n",
    "### Using wildcards in SQL statements \n",
    "/*\n",
    "* This would extract all the emails that ended with \"codemy.com\" \n",
    "*/ \n",
    "c.execute(\"SELECT * FROM customers WHERE email LIKE '%codemy.com'\") "
   ]
  },
  {
   "cell_type": "markdown",
   "metadata": {},
   "source": [
    "<h1> <b> Updating A Record Inside the Database </b> </h1> "
   ]
  },
  {
   "cell_type": "code",
   "execution_count": 54,
   "metadata": {},
   "outputs": [
    {
     "name": "stdout",
     "output_type": "stream",
     "text": [
      "(1, 'John', 'Elder', 'john@gmail.com', '$pbkdf2-sha256$30000$GCMkBCDE.J/TWkvpHcNYaw$IbExE48EaMbPqrJsKDpqVU9kch/S5S4z5TNIm99zr1U')\n",
      "(2, 'Mbonu', 'Chinedum', 'cboy.chinedu@gmail.com', '$pbkdf2-sha256$30000$4Vyrde4dQ8jZW2tNyRmjdA$L1scgeAV6N1Cpf5UBIuxkmBMDcSVL6D.wXdJRUY36Yw')\n",
      "(3, 'Steph', 'Kuewa', 'steph@kuewa.com', '$pbkdf2-sha256$30000$EELIea/Vuvd.z3lvLQUgxA$Iazvx7Ns0.Et6jSCSXwIBKKo6usr7JE.Zw0ftkAVKuQ')\n",
      "(4, 'Dan', 'Pas', 'dan@pas.com', '$pbkdf2-sha256$30000$rBXinHOu1frf21urFYJQig$7DyCSBINDi2zIg7iRj4GP1ufD4MKLDDO1RmiFgCsZIg')\n"
     ]
    }
   ],
   "source": [
    "# Importing the necessary modules \n",
    "import sqlite3\n",
    "\n",
    "# Connecting to the database  \n",
    "connection = sqlite3.connect(\"customer.db\") \n",
    "\n",
    "# Creating a cursor object \n",
    "c = connection.cursor() \n",
    "\n",
    "# Updating the customer records using the specific row id \n",
    "# Working with rowid == 2 \n",
    "c.execute(\n",
    "    \"\"\"\n",
    "    UPDATE customers SET first_name = 'Mbonu', \n",
    "    last_name = 'Chinedum', email = 'cboy.chinedu@gmail.com' \n",
    "    WHERE rowid = 2 \n",
    "\n",
    "    \"\"\")\n",
    "\n",
    "# Commiting the connection \n",
    "connection.commit() \n",
    "\n",
    "# Query the database  \n",
    "c.execute(\"SELECT rowid, * FROM customers\")\n",
    "\n",
    "# Displaying to see if changes were made \n",
    "items = c.fetchall() \n",
    "\n",
    "# Closing the connection \n",
    "connection.close() \n",
    "\n",
    "for item in items:\n",
    "    print(item) "
   ]
  },
  {
   "cell_type": "markdown",
   "metadata": {},
   "source": [
    "<h1> <b> Deleting Records From The Database </b> </h1> \n",
    "\n",
    "<p> This would delete a record from the database on row 6 and display the update on the screen </p> \n",
    "<p> We should also take into consideration that a row is also known as a record </p> "
   ]
  },
  {
   "cell_type": "code",
   "execution_count": 30,
   "metadata": {},
   "outputs": [
    {
     "name": "stdout",
     "output_type": "stream",
     "text": [
      "(1, 'John', 'Elder', 'john@gmail.com')\n",
      "(2, 'Mbonu', 'Chinedum', 'cboy.chinedu@gmail.com')\n",
      "(3, 'Kelvin', 'Brown', 'kelvin@gmail.com')\n",
      "(4, 'West', 'Alija', 'wesajka@gmail.com')\n",
      "(6, 'Dan', 'Pas', 'dan@pas.com')\n"
     ]
    }
   ],
   "source": [
    "# Importing the necessary modules \n",
    "import sqlite3 \n",
    "\n",
    "# Connecting to the database  \n",
    "connection = sqlite3.connect(\"customer.db\") \n",
    "\n",
    "# Creating a cursor object \n",
    "c = connection.cursor() \n",
    "\n",
    "# Deleting records \n",
    "# Deleting customers with row id = 5 \n",
    "c.execute(\"DELETE from customers WHERE rowid = 5\")\n",
    "\n",
    "# Commiting the connection \n",
    "connection.commit() \n",
    "\n",
    "# Query the database  \n",
    "c.execute(\"SELECT rowid, * FROM customers\")\n",
    "\n",
    "# Fetching all the extracted records from the database  \n",
    "items = c.fetchall() \n",
    "\n",
    "# Displaying the records in a well formated form \n",
    "for item in items: \n",
    "    print(item) \n",
    "    \n",
    "# Closing the connection \n",
    "connection.close() \n"
   ]
  },
  {
   "cell_type": "markdown",
   "metadata": {},
   "source": [
    "<h1> <b> Deleting A Table From A Database </b> </h1> "
   ]
  },
  {
   "cell_type": "code",
   "execution_count": null,
   "metadata": {},
   "outputs": [],
   "source": [
    "# Importing the necessary modules \n",
    "import sqlite3\n",
    "\n",
    "# Connecting to the database  \n",
    "connection = sqlite3.connect(\"customer.db\") \n",
    "\n",
    "# Creating a cursor object \n",
    "c = connection.cursor() \n",
    "\n",
    "# Dropping or Deleting a Table \n",
    "c.execute(\"DROP TABLE customers\") \n",
    "connection.commit() \n",
    "\n",
    "# Closing the connection \n",
    "connection.close() "
   ]
  },
  {
   "cell_type": "code",
   "execution_count": null,
   "metadata": {},
   "outputs": [],
   "source": []
  },
  {
   "cell_type": "code",
   "execution_count": null,
   "metadata": {},
   "outputs": [],
   "source": []
  },
  {
   "cell_type": "code",
   "execution_count": null,
   "metadata": {},
   "outputs": [],
   "source": []
  }
 ],
 "metadata": {
  "kernelspec": {
   "display_name": "Python 3",
   "language": "python",
   "name": "python3"
  },
  "language_info": {
   "codemirror_mode": {
    "name": "ipython",
    "version": 3
   },
   "file_extension": ".py",
   "mimetype": "text/x-python",
   "name": "python",
   "nbconvert_exporter": "python",
   "pygments_lexer": "ipython3",
   "version": "3.6.10"
  }
 },
 "nbformat": 4,
 "nbformat_minor": 4
}
